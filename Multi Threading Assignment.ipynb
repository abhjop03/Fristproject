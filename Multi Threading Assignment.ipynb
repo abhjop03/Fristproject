{
 "cells": [
  {
   "cell_type": "markdown",
   "id": "94aef17b-9ea5-45c8-bfee-66f12904aa04",
   "metadata": {},
   "source": [
    "Q1. What is multithreading in python? Why is it used? Name the module used to handle threads in python."
   ]
  },
  {
   "cell_type": "markdown",
   "id": "f7c654e8-7f50-41dc-b56b-c57a510cb5d2",
   "metadata": {},
   "source": [
    "A thread is a unit of execution within a process. Multithreading refers to concurrently executing multiple threads by rapidly switching the control of the CPU between threads (called context switching).\n",
    "Multithreading in Python programming is a technique in which multiple threads in a process share their data space with the main thread which makes information sharing and communication within threads easy and efficient. Threads are lighter than processes. Multi threads may execute individually while sharing their process resources. The purpose of multithreading is to run multiple tasks and function cells at the same time.\n",
    "There are two main modules which can be used to handle threads in Python:\n",
    "1. thread module\n",
    "2. threading module"
   ]
  },
  {
   "cell_type": "markdown",
   "id": "7be934d2-822e-49f3-9a4d-b87f79892bf0",
   "metadata": {},
   "source": [
    "Q2. Why threading module used? Write the use of the following functions.\n",
    "    1. activeCount()\n",
    "    2. currentThread()\n",
    "    3. enumerate()"
   ]
  },
  {
   "cell_type": "markdown",
   "id": "6482b54b-bc34-43e6-b655-f8106ffba0c7",
   "metadata": {},
   "source": [
    "The threading module is a high-level implementation of multithreading used to deploy an application in Python. To use multithreading, we need to import the threading module in Python Program by (import threading).\n",
    "1. activeCount(): \n",
    "    active_count() is an inbuilt method of the threading module in Python. It returns the number of threads that are \n",
    "    currently active. Syntax is threading.active_count()and it returns an integer value. \n",
    "2. currentThread(): \n",
    "    current_thread() is an inbuilt method of the threading module in Python. It is used to return the current Thread\n",
    "    object, which corresponds to the caller's thread of control. Syntax is threading.current_thread() and it returns an\n",
    "    object. \n",
    "3. enumerate(): \n",
    "    threading.enumerate() is a buit-in function available with the Python library. It takes the given input\n",
    "    as a collection or tuples and returns it as an enumerate object. It returns a list of all Threads currently alive,\n",
    "    including the main thread, terminated threads and threads that have not yet been started are excluded.\n"
   ]
  },
  {
   "cell_type": "markdown",
   "id": "e9f421cf-7755-4cb0-b867-491ffb254e06",
   "metadata": {},
   "source": [
    "Q3. Explain the following functions.\n",
    "    1. run()\n",
    "    2. start()\n",
    "    3. join()\n",
    "    4. isAlive()"
   ]
  },
  {
   "cell_type": "markdown",
   "id": "fb2a3a2c-4d1a-4632-9185-56d9836366c2",
   "metadata": {},
   "source": [
    "1. run(): The run() method is the entry point for the thread. When a thread is started, its run() method is called. This            method can be overridden to define the thread's behavior.\n",
    "\n",
    "2. start(): The start() method is used to start the execution of a thread. When the start() method is called, the                     thread's run() method is executed in a separate thread of execution.\n",
    "\n",
    "3. join(): The join() method is used to wait for the thread to complete its execution. When the join() method is called,            the program waits until the thread completes before continuing execution.\n",
    "\n",
    "4. isAlive(): The isAlive() method is used to check whether the thread is currently executing. The method returns True if               the thread is currently executing, and False otherwise.\n"
   ]
  },
  {
   "cell_type": "markdown",
   "id": "308a01d8-fc86-434a-9e85-2c97a9718e6e",
   "metadata": {},
   "source": [
    "Q4. Write a python program to create two threads. Thread one must print the list of squares and thread\n",
    "    two must print the list of cubes."
   ]
  },
  {
   "cell_type": "code",
   "execution_count": 18,
   "id": "cb501ec9-4a94-48a9-b0b6-e7b712f8eb11",
   "metadata": {},
   "outputs": [
    {
     "name": "stdout",
     "output_type": "stream",
     "text": [
      "[1, 4, 9, 16, 25, 36, 49, 64, 81]\n",
      "[1, 8, 27, 64, 125, 216, 343, 512, 729]\n"
     ]
    }
   ],
   "source": [
    "import threading\n",
    "\n",
    "def print_squares():\n",
    "    rslt = []\n",
    "    lst = [1,2,3,4,5,6,7,8,9]\n",
    "    for l in lst:\n",
    "        rslt.append(l**2)\n",
    "    print(rslt)\n",
    "def print_cubes():\n",
    "    rslt = []\n",
    "    lst = [1,2,3,4,5,6,7,8,9]\n",
    "    for l in lst:\n",
    "        rslt.append(l**3)\n",
    "    print(rslt)\n",
    "\n",
    "thread1 = threading.Thread(target=print_squares,)\n",
    "thread2 = threading.Thread(target=print_cubes,)\n",
    "\n",
    "thread1.start()\n",
    "thread2.start()\n",
    "\n"
   ]
  },
  {
   "cell_type": "markdown",
   "id": "e1666c62-254b-495a-8564-dfbb381f11d0",
   "metadata": {},
   "source": [
    "Q5. State advantages and disadvantages of multithreading"
   ]
  },
  {
   "cell_type": "markdown",
   "id": "f9411ecf-7edd-4bbb-9730-f6c992579cc3",
   "metadata": {},
   "source": [
    "Advantages of Multithreading:\n",
    "\n",
    "Improved performance: Multithreading allows a program to perform multiple tasks simultaneously, which can lead to better performance and faster execution times. This is especially useful in applications that involve I/O or other tasks that are blocking.\n",
    "\n",
    "Resource sharing: Multithreading allows threads to share resources such as memory and CPU time, which can lead to more efficient resource utilization.\n",
    "\n",
    "Asynchronous execution: Multithreading can be used to perform asynchronous I/O operations, where the program can continue executing other tasks while waiting for I/O operations to complete. This can improve the responsiveness of the program.\n",
    "\n",
    "Parallel processing: Multithreading can be used to perform tasks in parallel, where multiple threads can work on the same task simultaneously. This can reduce the time required to complete the task.\n",
    "\n",
    "Disadvantages of Multithreading:\n",
    "\n",
    "Complexity: Multithreading adds complexity to a program, making it more difficult to design, develop, and debug. It can be challenging to ensure thread safety and avoid race conditions and deadlocks.\n",
    "\n",
    "Overhead: Multithreading introduces overhead in terms of memory and CPU time, as each thread requires its own stack and context switching between threads requires additional processing time.\n",
    "\n",
    "Synchronization issues: Multithreading introduces synchronization issues, as threads may access shared resources simultaneously, leading to conflicts and data corruption.\n",
    "\n",
    "Debugging challenges: Debugging multithreaded programs can be challenging, as the behavior of the program can be non-deterministic and difficult to reproduce."
   ]
  },
  {
   "cell_type": "markdown",
   "id": "4cfc1770-7385-4b5c-a2f7-11b5596b107a",
   "metadata": {},
   "source": [
    "Q6. Explain deadlocks and race conditions."
   ]
  },
  {
   "cell_type": "markdown",
   "id": "ae4b450d-23fa-463c-83d5-63247abb5943",
   "metadata": {},
   "source": [
    "Deadlocks occur when two or more threads are waiting for each other to release resources that they need in order to proceed. Deadlocks can occur when a thread holds a resource and then tries to acquire another resource that is held by another thread, which is also waiting for the first thread to release the resource it holds. This can result in a situation where both threads are waiting for each other to release the resources they need, and neither can proceed. Deadlocks can be difficult to detect and resolve, as they can be intermittent and dependent on timing and scheduling.\n",
    "\n",
    "Race conditions occur when two or more threads access a shared resource simultaneously and the behavior of the program depends on the order in which the threads execute. Race conditions can occur when a shared resource is not properly synchronized, allowing multiple threads to access it simultaneously. This can lead to unexpected and unpredictable behavior, as the behavior of the program depends on the timing and scheduling of the threads. Race conditions can be difficult to detect and reproduce, as they can be dependent on timing and other factors."
   ]
  },
  {
   "cell_type": "code",
   "execution_count": null,
   "id": "5b35b1a0-8a2b-44de-a729-f1250e46e4d9",
   "metadata": {},
   "outputs": [],
   "source": []
  }
 ],
 "metadata": {
  "kernelspec": {
   "display_name": "Python 3 (ipykernel)",
   "language": "python",
   "name": "python3"
  },
  "language_info": {
   "codemirror_mode": {
    "name": "ipython",
    "version": 3
   },
   "file_extension": ".py",
   "mimetype": "text/x-python",
   "name": "python",
   "nbconvert_exporter": "python",
   "pygments_lexer": "ipython3",
   "version": "3.10.8"
  }
 },
 "nbformat": 4,
 "nbformat_minor": 5
}
