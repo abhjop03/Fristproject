{
 "cells": [
  {
   "cell_type": "markdown",
   "id": "fb639d11-ae76-4585-9b5d-182d6061e282",
   "metadata": {},
   "source": [
    "Q1. What is a database? Differentiate between SQL and NoSQL databases."
   ]
  },
  {
   "cell_type": "markdown",
   "id": "42ca2f12-4c83-4ea6-bf5b-40b2b8a5822d",
   "metadata": {},
   "source": [
    "A database is an organized collection of structured information, or data, typically stored electronically in a computer system. A database is usually controlled by a database management system (DBMS). \n",
    "\n",
    "SQL : It stands for “Structured Query Language” is the programming language that’s been widely used in managing data in relational database management systems (RDBMS)\n",
    "\n",
    "NoSQL : It stands for \"Not only structured query language\". it is a non-relational database, meaning it allows different structures than a SQL database (not rows and columns) and more flexibility to use a format that best fits the data."
   ]
  },
  {
   "cell_type": "markdown",
   "id": "96be556e-adac-44f4-95a1-496279e311a6",
   "metadata": {},
   "source": [
    "Q2. What is DDL? Explain why CREATE, DROP, ALTER, and TRUNCATE are used with an example."
   ]
  },
  {
   "cell_type": "markdown",
   "id": "59aa85e9-1df1-4821-87c6-686edee5d327",
   "metadata": {},
   "source": [
    "DDL stands for the \"data difinition language\" is command in the Structured Query Language are used to create and modify the schema of the database and its objects.\n",
    "1. CREATE : it is a DDL command used to create databases, tables, triggers and other database objects.\n",
    "\n",
    "            for example - \n",
    "            \n",
    "                          CREATE DATABASE Employee;            \n",
    "                          CREATE TABLE Student(  \n",
    "                          Roll_No. Int ,    \n",
    "                          First_Name Varchar (20) ,    \n",
    "                          Last_Name Varchar (20) ,    \n",
    "                          Age Int ,  \n",
    "                          Marks Int ,   \n",
    "                          ) ;    \n",
    "2. DROP : it is a DDL command used to delete/remove the database objects from the SQL database. We can easily remove the           entire table, view, or index from the database using this DDL command.\n",
    "\n",
    "            for example -   DROP DATABASE Employee;\n",
    "                            DROP TABLE Student;  \n",
    "                            \n",
    "3. ALTER : ALTER is a DDL command which changes or modifies the existing structure of the database, and it also changes              the schema of database objects. We can also add and drop constraints of the table using the ALTER command.\n",
    "\n",
    "            for example -   ALTER TABLE Student MODIFY ( Last_Name varchar(25));\n",
    "                            ALTER TABLE Student ADD Father's_Name Varchar(60);  \n",
    "\n",
    "4. TRUNCATE : TRUNCATE is DDL command which deletes or removes all the records from the table. This command also removes               the space allocated for storing the table records.\n",
    "\n",
    "            for example -   TRUNCATE TABLE Student;  \n",
    "                            The above query successfully removed all the records from the student table. "
   ]
  },
  {
   "cell_type": "markdown",
   "id": "714a34f7-0222-49e5-ae72-5be48f7bf383",
   "metadata": {},
   "source": [
    "Q3. What is DML? Explain INSERT, UPDATE, and DELETE with an example."
   ]
  },
  {
   "cell_type": "markdown",
   "id": "4181f368-8429-4da1-b776-6cd39c43cfa9",
   "metadata": {},
   "source": [
    "DML stands for Data Manupulation Language. It is used to manupulate the data in the existing schema objects. DML also refers to a computer programming language that allows you to add (insert), delete (delete), and alter (update) data in a database. \n",
    "\n",
    "INSERT :- This command can be used to insert data into a row of a table. INSERT INTO would insert the values that are               mentioned in the ‘Student’ table below.\n",
    "\n",
    "          Syntax:\n",
    "          INSERT INTO NAME_OF_TABLE (1_column, 2_column, 3_column, …. N_column)\n",
    "          VALUES (1_value, 2_value, 3_value, …. N_value);\n",
    "          Example:\n",
    "          INSERT INTO Student(Stu_Name, DOB, Phone, Mail)\n",
    "          VALUES(‘Abhishek’, ‘1998-05-26’, 123456789, ‘user@xyz.com’);\n",
    "                        \n",
    "\n",
    "UPDATE :- This statement in SQL is used to update the data that is present in an existing table of a database. The UPDATE           statement can be used to update single or multiple columns on the basis of our specific needs.\n",
    "\n",
    "            Syntax:\n",
    "            UPDATE name_of_table SET 1_coumn = 1_value, 2_coumn = 2_value, 3_coumn = 3_value, … , N_coumn = N_value\n",
    "            WHERE condition;\n",
    "            Example:\n",
    "            UPDATE Student SET Phone = 987654321 WHERE Stu_Name = ’Abhishek’;\n",
    "DELETE :- The DELETE statement can be used in SQL to delete various records from a given table. On the basis of the                 condition that has been set in the WHERE clause, one can delete single or multiple records.\n",
    "\n",
    "            Syntax:\n",
    "            DELETE FROM name_of_table [WHERE condition];\n",
    "            Example:\n",
    "            DELETE FROM Student WHERE Stu_Name = ’Abhishek’;"
   ]
  },
  {
   "cell_type": "markdown",
   "id": "b8d84a30-391c-4b0f-b757-f2da9aa7a8f1",
   "metadata": {},
   "source": [
    "Q4. What is DQL? Explain SELECT with an example."
   ]
  },
  {
   "cell_type": "markdown",
   "id": "d9c67e97-5a25-4974-80b4-9ab477aa84e9",
   "metadata": {},
   "source": [
    "DQL stands for Data Query Language. It is used to fetch the data from the database. It uses the SELECT command to fetch the data from the database.\n",
    "\n",
    "SELECT: This is the same as the projection operation of relational algebra. It is used to select the attribute based on the condition described by WHERE clause.\n",
    "\n",
    "        Syntax:\n",
    "            SELECT expressions    \n",
    "            FROM TABLES    \n",
    "            WHERE conditions;  \n",
    "        For example:\n",
    "            SELECT Student_name  \n",
    "            FROM student  \n",
    "            WHERE age > 20;  "
   ]
  },
  {
   "cell_type": "markdown",
   "id": "b047f6b0-b32a-416a-b7fd-b95dbffa6ffa",
   "metadata": {},
   "source": [
    "Q5. Explain Primary Key and Foreign Key."
   ]
  },
  {
   "cell_type": "markdown",
   "id": "02095728-9a5d-4fec-ad34-794a23fb248f",
   "metadata": {},
   "source": [
    "Primary Key:\n",
    "\n",
    "    A primary key constrain is a column or group of columns that uniquely identifies every row in the table of the relational database management system. It cannot be a duplicate, meaning the same value should not appear more than once in the table. A table can not have more than one primary key. Primary key can be defined at the column or the table level. If you create a composite primary key, it should be defined at the table level.\n",
    "\n",
    "Foreign Key:\n",
    "\n",
    "    A foreign key is a column or a set of columns in a table whose values correspond to the values of the primary key in another table. In order to add a row with a given foreign key value, there must exist a row in the related table with the same primary key value. A foreign key is generally used to build a relationship between the two tables. The major purpose of the foreign key is to sustain data integrity between two separate instances of an entity."
   ]
  },
  {
   "cell_type": "markdown",
   "id": "65c053d6-d3d5-45a3-8366-76c03c079d4d",
   "metadata": {},
   "source": [
    "Q6. Write a python code to connect MySQL to python. Explain the cursor() and execute() method."
   ]
  },
  {
   "cell_type": "code",
   "execution_count": null,
   "id": "c3adfb21-9bea-4532-b4f7-39543961c05e",
   "metadata": {},
   "outputs": [],
   "source": [
    "import mysql.connector\n",
    "mydb = mysql.connector.connect(\n",
    "  host=\"localhost\",\n",
    "  user=\"root\",\n",
    "  password=\"root\"\n",
    ")\n",
    "print(mydb)"
   ]
  },
  {
   "cell_type": "markdown",
   "id": "c6afb6f5-6d70-4298-870f-b308e62b96cc",
   "metadata": {},
   "source": [
    "Cursor(): A Database Cursor is a special type of control structure that facilitates the row by row processing of record in the resultset, i.e., the set of records retrived as per query. We create cursor by writing cursor = mydb.cursor().\n",
    "\n",
    "Execute(): Rhe execute() is used to execute the sql query or command.\n",
    "\n",
    "        Syntax:\n",
    "            cursor.execute(operation, params=None, multi=False)\n",
    "            iterator = cursor.execute(operation, params=None, multi=True)"
   ]
  },
  {
   "cell_type": "markdown",
   "id": "e73c21c5-0548-4297-88b4-84ae28204fc4",
   "metadata": {},
   "source": [
    "Q7. Give the order of execution of SQL clauses in an SQL query."
   ]
  },
  {
   "cell_type": "markdown",
   "id": "5219b3bf-e610-4ae7-a0f6-323a03d7a706",
   "metadata": {},
   "source": [
    "The order in which the clauses in queries are executed is as follows:\n",
    "\n",
    "1. FROM/JOIN: The FROM and/or JOIN clauses are executed first to determine the data of interest.\n",
    "\n",
    "2. WHERE: The WHERE clause is executed to filter out records that do not meet the constraints.\n",
    "\n",
    "3. GROUP BY: The GROUP BY clause is executed to group the data based on the values in one or more columns.\n",
    "\n",
    "4. HAVING: The HAVING clause is executed to remove the created grouped records that don’t meet the constraints.\n",
    "\n",
    "5. SELECT: The SELECT clause is executed to derive all desired columns and expressions.\n",
    "\n",
    "6. ORDER BY: The ORDER BY clause is executed to sort the derived values in ascending or descending order.\n",
    "\n",
    "7. LIMIT/OFFSET: Finally, the LIMIT and/or OFFSET clauses are executed to keep or skip a specified number of rows."
   ]
  },
  {
   "cell_type": "code",
   "execution_count": null,
   "id": "9e86e08a-e80f-41dd-87b7-34f707a01156",
   "metadata": {},
   "outputs": [],
   "source": []
  }
 ],
 "metadata": {
  "kernelspec": {
   "display_name": "Python 3 (ipykernel)",
   "language": "python",
   "name": "python3"
  },
  "language_info": {
   "codemirror_mode": {
    "name": "ipython",
    "version": 3
   },
   "file_extension": ".py",
   "mimetype": "text/x-python",
   "name": "python",
   "nbconvert_exporter": "python",
   "pygments_lexer": "ipython3",
   "version": "3.10.8"
  }
 },
 "nbformat": 4,
 "nbformat_minor": 5
}
