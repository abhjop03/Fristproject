{
 "cells": [
  {
   "cell_type": "markdown",
   "id": "500b207a-d0cc-44fc-b744-324be0deddf8",
   "metadata": {},
   "source": [
    "Q1. What is an API? Give an example, where an API is used in real life."
   ]
  },
  {
   "cell_type": "markdown",
   "id": "a5977c61-4e4f-4356-ac91-9af1bcff612e",
   "metadata": {},
   "source": [
    "APIs stands for Application Program Interfaces. It is mechanisms that enable two software components to communicate with each other using a set of definitions and protocols. \n",
    "\n",
    "API Example\n",
    "Companies of all sizes can utilize APIs for website analytics, project and team management tools, online payment systems, and for many other operational solutions.\n",
    "\n",
    "Analytics. Google Analytics is a part of the Google Cloud API Platform and offers multiple API options that businesses can use for analytics. The most common APIs used are Core Reporting API and Management API.\n",
    "Online Payment Systems. Where digital money transfers occur, there is an API supporting the process. Many organizations choose to utilize APIs from a firm such as PayPal to provide secure, safe money transfers to their customers.\n",
    "the weather bureau's software system contains daily weather data. The weather app on my phone “talks” to this system via APIs and shows you daily weather updates on my phone.\n",
    "API is used in real life in Streaming services like Spotify and Netflix use APIs to distribute content."
   ]
  },
  {
   "cell_type": "markdown",
   "id": "0eadbbf1-81a4-406c-844a-8eba3e89bad7",
   "metadata": {},
   "source": [
    "Q2. Give advantages and disadvantages of using API."
   ]
  },
  {
   "cell_type": "markdown",
   "id": "4069ed9a-0c09-48c8-99d3-e0be46d38af3",
   "metadata": {},
   "source": [
    "Advantages of using APIs\n",
    "The development of APIs has enabled many business innovations and workflow efficiencies, here’s just three of the biggest benefits of using APIs:\n",
    "\n",
    "Automation\n",
    "When using an API managed by computers, less human effort is required and workflows can be easily updated to become faster and more productive. Furthermore, new content and information can be published and shared with your entire audience quickly and efficiently across all channels. \n",
    "\n",
    "Developer efficiency and innovation\n",
    "APIs empower developers to be more productive by reusing code in complex but repetitive processes. They don’t need to start from scratch as the API specifies how to assemble software components in a program. APIs exist to make it easy to interface with other developers' applications.\n",
    "\n",
    "Improved value proposition\n",
    "By using APIs made available by companies such as Amazon, Salesforce, or Twitter, an application can integrate those services into their own systems to make themselves more attractive to customers.\n",
    "\n",
    "Disadvantages of using APIs\n",
    "APIs carry a number of Drawbacks, too — the most important being security.\n",
    "Poor integration means that an API can be vulnerable to attacks, yet data breaches or losses have huge ramifications when it comes to the finances and reputation of a company. Attacks can also negatively affect the customers of an application as their data and information are compromised."
   ]
  },
  {
   "cell_type": "markdown",
   "id": "9d5e3e62-6df1-41a6-ac0c-0cad22fee5b5",
   "metadata": {},
   "source": [
    "Q3. What is a Web API? Differentiate between API and Web API."
   ]
  },
  {
   "cell_type": "markdown",
   "id": "1bda3b43-f4f2-4f79-ab28-72729bc80d3a",
   "metadata": {},
   "source": [
    "Both APIs and web APIs are technologies that enable the transfer of data between separate software applications. API is an interface that exposes an application's data to outside software, whereas web applications are one type of API with stricter requirements. These requirements include network communication, SOAP as the primary protocol, and less accessibility for the public."
   ]
  },
  {
   "cell_type": "markdown",
   "id": "ffebb4cd-bf84-432b-bbe2-5775292f6004",
   "metadata": {},
   "source": [
    "Q4. Explain REST and SOAP Architecture. Mention shortcomings of SOAP."
   ]
  },
  {
   "cell_type": "markdown",
   "id": "4f0f5ce3-5c72-4390-98d1-07da954f4564",
   "metadata": {},
   "source": [
    "REST and SOAP are two different approaches to online data transmission. Specifically, both define how to build application programming interfaces (APIs), which allow data to be communicated between web applications. Representational state transfer (REST) is a set of architectural principles. Simple object access protocol (SOAP) is an official protocol maintained by the World Wide Web Consortium (W3C). The main difference is that SOAP is a protocol while REST is not. Typically, an API will adhere to either REST or SOAP, depending on the use case and preferences of the developer.\n",
    "\n",
    "Download our API owner's manual\n",
    "REST: representational state transfer. REST is a set of architectural principles attuned to the needs of lightweight web services and mobile applications. Because it's a set of guidelines, it leaves the implementation of these recommendations to developers.\n",
    "\n",
    "When a request for data is sent to a REST API, it’s usually done through hypertext transfer protocol (commonly referred to as HTTP). Once a request is received, APIs designed for REST (called RESTful APIs or RESTful web services) can return messages in a variety of formats: HTML, XML, plain text, and JSON. JSON (JavaScript object notation) is favored as a message format because it can be read by any programming language (despite the name), is human- and machine-readable, and is lightweight. In this way, RESTful APIs are more flexible and can be easier to set up.\n",
    "\n",
    "An application is said to be RESTful if it follows 6 architectural guidelines. A RESTful application must have:\n",
    "\n",
    "1. A client-server architecture composed of clients, servers, and resources.\n",
    "2. Stateless client-server communication, meaning no client content is stored on the server between requests. Information about the session’s state is instead held with the client.\n",
    "3. Cacheable data to eliminate the need for some client-server interactions.\n",
    "4. A uniform interface between components so that information is transferred in a standardized form instead of specific to an application’s needs. This is described by Roy Fielding, the originator of REST, as “the central feature that distinguishes the REST architectural style from other network-based styles.”\n",
    "5. A layered system constraint, where client-server interactions can be mediated by hierarchical layers.\n",
    "6. Code on demand, allowing servers to extend the functionality of a client by transferring executable code (though also reducing visibility, making this an optional guideline).\n",
    "\n",
    "SOAP: simple object access protocol\n",
    "SOAP is a standard protocol that was first designed so that applications built with different languages and on different platforms could communicate. Because it is a protocol, it imposes built-in rules that increase its complexity and overhead, which can lead to longer page load times. However, these standards also offer built-in compliances that can make it preferable for enterprise scenarios. The built-in compliance standards include security, atomicity, consistency, isolation, and durability (ACID), which is a set of properties for ensuring reliable database transactions.\n",
    "\n",
    "Common web service specifications include:\n",
    "\n",
    "1. Web services security (WS-security): Standardizes how messages are secured and transferred through unique identifiers called tokens.\n",
    "2. WS-ReliableMessaging: Standardizes error handling between messages transferred across unreliable IT infrastructure.\n",
    "3. Web services addressing (WS-addressing): Packages routing information as metadata within SOAP headers, instead of maintaining such information deeper within the network.\n",
    "4. Web services description language (WSDL): Describes what a web service does, and where that service begins and ends.\n",
    "\n",
    "When a request for data is sent to a SOAP API, it can be handled through any of the application layer protocols: HTTP (for web browsers), SMTP (for email), TCP, and others. However, once a request is received, return SOAP messages must be returned as XML documents—a markup language that is both human- and machine-readable. A completed request to a SOAP API is not cacheable by a browser, so it cannot be accessed later without resending to the API.\n",
    "\n",
    "Shortcomings of SOAP.\n",
    "\n",
    "As SOAP can only transfer messages as XML files, your SOAP API will be less performant, as XML is a verbose format compared to JSON. API calls made to your server will need more bandwidth and it will take more time to process the request and transfer the response back to the client.\n",
    "\n",
    "In SOAP, the client-server communication depends on WSDL (Web Service Description Language) contracts, which implies tight coupling. Therefore, it’s not recommended for loosely coupled applications as you can’t opt out of using a contract between the client and the server.\n",
    "\n",
    "SOAP also has a higher learning curve, is harder to code, and can’t be tested in the web browser (as opposed to REST). With SOAP, you need to generate contracts in WSDL, create client stubs, follow strict specifications, and more. This also means that as a programmer, we’ll also have less freedom of choice."
   ]
  },
  {
   "cell_type": "markdown",
   "id": "b1fd80fe-c54b-48a6-863a-c1c7a4c35a5d",
   "metadata": {},
   "source": [
    "Q5. Differentiate between REST and SOAP."
   ]
  },
  {
   "cell_type": "markdown",
   "id": "ebd84c88-6995-45ef-9faa-9b5ddd0d3db2",
   "metadata": {},
   "source": [
    "SOAP vs. REST\n",
    "Many legacy systems may still adhere to SOAP, while REST came later and is often viewed as a faster alternative in web-based scenarios. REST is a set of guidelines that offers flexible implementation, whereas SOAP is a protocol with specific requirements like XML messaging.\n",
    "\n",
    "REST APIs are lightweight, making them ideal for newer contexts like the Internet of Things (IoT), mobile application development, and serverless computing. SOAP web services offer built-in security and transaction compliance that align with many enterprise needs, but that also makes them heavier. Additionally, many public APIs, like the Google Maps API, follow the REST guidelines.\n",
    "\n",
    "REST API\n",
    "REST stands for Representational State Transfer it is truly a “web services” API. REST APIs are based on URIs (Uniform Resource Identifier, of which a URL is a specific type) and the HTTP protocol and use JSON for a data format, which is browser-compatible. REST APIs can be simple to build and scale.\n",
    "Reasons you may want to build an API to be RESTful include resource limitations, fewer security requirements, browser client compatibility, discoverability, data health, and scalability—things that really apply to web services.\n",
    "\n",
    "1. REST is all about simplicity, Because of the HTTP protocols.\n",
    "2. REST APIs facilitate client-server communications and architectures. If it’s RESTful, it’s built on this client-server principle, with round trips between the two passing payloads of information.\n",
    "3. REST APIs use a single uniform interface. This simplifies how applications interact with the API by requiring they all interface in the same way, through the same portal. This has advantages and disadvantages; check with your developer to see if this will affect implementation changes down the road.\n",
    "4. REST is optimized for the web. Using JSON as its data format makes it compatible with browsers.‍\n",
    "5. REST is known for excellent performance and scalability. But, like any technology, it can get bogged down or bog down your app. That’s why languages like GraphQL have come along to address problems even REST can’t solve.\n",
    "\n",
    "SOAP\n",
    "SOAP (Simple Object Access Protocol) is its own protocol and is a bit more complex by defining more standards than REST—things like security and how messages are sent. These built-in standards do carry a bit more overhead. Still, they can be a deciding factor for organizations that require more comprehensive features in the way of security, transactions, and ACID (Atomicity, Consistency, Isolation, Durability) compliance.\n",
    "\n",
    "Reasons we want to develop an application with a SOAP API include higher levels of security (e.g., a mobile application interfacing with a bank), messaging apps that need reliable communication, communicating with legacy systems, or ACID compliance.\n",
    "\n",
    "1. SOAP has much tighter security. In addition to SSL support, WS-Security is a built-in standard that gives SOAP some more enterprise-level security features if you require them.\n",
    "2. Successful/retry logic for reliable messaging functionality. REST doesn’t have a standard messaging system and can only address communication failures by retrying. SOAP has successful/retry logic built-in and provides end-to-end reliability even through SOAP intermediaries.\n",
    "3. SOAP has built-in ACID compliance. ACID compliance reduces anomalies and protects the integrity of a database by prescribing how transactions can interact with the database. ACID is more conservative than other data consistency models, which is why it’s typically favored when handling financial or otherwise sensitive transactions."
   ]
  }
 ],
 "metadata": {
  "kernelspec": {
   "display_name": "Python 3 (ipykernel)",
   "language": "python",
   "name": "python3"
  },
  "language_info": {
   "codemirror_mode": {
    "name": "ipython",
    "version": 3
   },
   "file_extension": ".py",
   "mimetype": "text/x-python",
   "name": "python",
   "nbconvert_exporter": "python",
   "pygments_lexer": "ipython3",
   "version": "3.10.8"
  }
 },
 "nbformat": 4,
 "nbformat_minor": 5
}
